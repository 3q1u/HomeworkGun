{
 "cells": [
  {
   "cell_type": "code",
   "execution_count": 1,
   "metadata": {},
   "outputs": [
    {
     "name": "stdout",
     "output_type": "stream",
     "text": [
      "onnx version:  1.14.1\n",
      "onnxruntime version:  1.17.0\n"
     ]
    }
   ],
   "source": [
    "import numpy as np\n",
    "import onnxruntime\n",
    "import onnx\n",
    "from onnxruntime.quantization import QuantFormat, QuantType, StaticQuantConfig, quantize, CalibrationMethod\n",
    "from onnxruntime.quantization import CalibrationDataReader\n",
    "from PIL import Image\n",
    "\n",
    "print(\"onnx version: \", onnx.__version__)\n",
    "print(\"onnxruntime version: \", onnxruntime.__version__)\n"
   ]
  },
  {
   "cell_type": "code",
   "execution_count": 2,
   "metadata": {},
   "outputs": [
    {
     "name": "stdout",
     "output_type": "stream",
     "text": [
      "Simplifying\u001b[33m...\u001b[0m\n",
      "Finish! Here is the difference:\n",
      "┏━━━━━━━━━━━━━━━━━━━━┳━━━━━━━━━━━━━━━━┳━━━━━━━━━━━━━━━━━━┓\n",
      "┃\u001b[1m \u001b[0m\u001b[1m                  \u001b[0m\u001b[1m \u001b[0m┃\u001b[1m \u001b[0m\u001b[1mOriginal Model\u001b[0m\u001b[1m \u001b[0m┃\u001b[1m \u001b[0m\u001b[1mSimplified Model\u001b[0m\u001b[1m \u001b[0m┃\n",
      "┡━━━━━━━━━━━━━━━━━━━━╇━━━━━━━━━━━━━━━━╇━━━━━━━━━━━━━━━━━━┩\n",
      "│ Add                │ 15             │ 15               │\n",
      "│ BatchNormalization │ 49             │ \u001b[1;32m1               \u001b[0m │\n",
      "│ Concat             │ 1              │ 1                │\n",
      "│ Constant           │ 300            │ \u001b[1;32m148             \u001b[0m │\n",
      "│ Conv               │ 72             │ 72               │\n",
      "│ ConvTranspose      │ 2              │ 2                │\n",
      "│ GlobalAveragePool  │ 8              │ 8                │\n",
      "│ HardSigmoid        │ 8              │ 8                │\n",
      "│ HardSwish          │ 20             │ 20               │\n",
      "│ Mul                │ 8              │ 8                │\n",
      "│ Relu               │ 22             │ 22               │\n",
      "│ Resize             │ 6              │ 6                │\n",
      "│ Sigmoid            │ 1              │ 1                │\n",
      "│ Model Size         │ 6.5MiB         │ \u001b[1;32m6.4MiB          \u001b[0m │\n",
      "└────────────────────┴────────────────┴──────────────────┘\n"
     ]
    }
   ],
   "source": [
    "# pip install onnxsim\n",
    "# input shape tested by `test_size.py`\n",
    "!onnxsim model.onnx model-sim.onnx --overwrite-input-shape 1,3,128,128"
   ]
  },
  {
   "cell_type": "code",
   "execution_count": 3,
   "metadata": {},
   "outputs": [],
   "source": [
    "# preprocessing\n",
    "!python -m onnxruntime.quantization.preprocess --input model-sim.onnx --output model-preprocessed.onnx"
   ]
  },
  {
   "cell_type": "code",
   "execution_count": 4,
   "metadata": {},
   "outputs": [],
   "source": [
    "input_model_path = 'model-preprocessed.onnx'\n",
    "output_model_path = 'model-quant.onnx'\n",
    "\n",
    "calibration_dataset_path = None"
   ]
  },
  {
   "cell_type": "code",
   "execution_count": 5,
   "metadata": {},
   "outputs": [],
   "source": [
    "# file:///Users/tony/STM32Cube/Repository/Packs/STMicroelectronics/X-CUBE-AI/8.1.0/Documentation/quantization.html#ref_onnx_static_quant\n",
    "# Note that for a quick evaluation in term of inference time and memory footprint, the XXXDataReader object can be updated to generate the fake image with the random data.\n",
    "# IMPORTANT! Use real data instead of random data for calibration in the real scenario.\n",
    "\n",
    "class DetDataReader(CalibrationDataReader):\n",
    "    def __init__(self, calibration_image_folder: str, model_path: str):\n",
    "        self.enum_data = None\n",
    "\n",
    "        # Use inference session to get input shape.\n",
    "        session = onnxruntime.InferenceSession(model_path, None)\n",
    "        (_, chnannel, height, width) = session.get_inputs()[0].shape\n",
    "\n",
    "        # Generate the random data in the half-open interval [0.0, 1.0).\n",
    "        self.nhwc_data_list = [np.random.random_sample((1, chnannel, height, width)).astype(np.float32)\n",
    "                               for i in range(20)]\n",
    "\n",
    "        self.input_name = session.get_inputs()[0].name\n",
    "        self.datasize = len(self.nhwc_data_list)\n",
    "\n",
    "    def get_next(self):\n",
    "        if self.enum_data is None:\n",
    "            self.enum_data = iter(\n",
    "                [{self.input_name: nhwc_data} for nhwc_data in self.nhwc_data_list]\n",
    "            )\n",
    "        return next(self.enum_data, None)\n",
    "\n",
    "    def rewind(self):\n",
    "        self.enum_data = None"
   ]
  },
  {
   "cell_type": "code",
   "execution_count": 6,
   "metadata": {},
   "outputs": [
    {
     "name": "stderr",
     "output_type": "stream",
     "text": [
      "/Users/tony/miniconda3/envs/xai/lib/python3.11/site-packages/onnxruntime/quantization/onnx_quantizer.py:902: RuntimeWarning: invalid value encountered in cast\n",
      "  quantized_data = (np.asarray(bias_data) / bias_scale).round().astype(np.int32)\n"
     ]
    }
   ],
   "source": [
    "dr = DetDataReader(\n",
    "        calibration_dataset_path, input_model_path\n",
    "    )\n",
    "\n",
    "conf = StaticQuantConfig(\n",
    "    calibration_data_reader=dr,\n",
    "    quant_format=QuantFormat.QDQ,\n",
    "    calibrate_method=CalibrationMethod.MinMax,\n",
    "    # optimize_model=True,\n",
    "    activation_type=QuantType.QInt8,\n",
    "    weight_type=QuantType.QInt8,\n",
    "    # nodes_to_exclude=['resnetv17_dense0_fwd', ..],\n",
    "    # nodes_to_quantize=['resnetv17_dense0_fwd', ..],\n",
    "    per_channel=False)\n",
    "      \n",
    "quantize(input_model_path, output_model_path, conf)"
   ]
  },
  {
   "cell_type": "code",
   "execution_count": null,
   "metadata": {},
   "outputs": [],
   "source": []
  }
 ],
 "metadata": {
  "kernelspec": {
   "display_name": "xai",
   "language": "python",
   "name": "python3"
  },
  "language_info": {
   "codemirror_mode": {
    "name": "ipython",
    "version": 3
   },
   "file_extension": ".py",
   "mimetype": "text/x-python",
   "name": "python",
   "nbconvert_exporter": "python",
   "pygments_lexer": "ipython3",
   "version": "3.11.7"
  }
 },
 "nbformat": 4,
 "nbformat_minor": 2
}
